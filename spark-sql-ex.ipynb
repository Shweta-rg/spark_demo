{
 "cells": [
  {
   "cell_type": "code",
   "execution_count": 2,
   "metadata": {},
   "outputs": [],
   "source": [
    "import findspark\n",
    "findspark.init()\n",
    "\n",
    "from pyspark.sql import SparkSession\n",
    "from pyspark.sql.functions import*\n",
    "\n",
    "from pyspark.sql.types import StructType, StructField, StringType, IntegerType, BooleanType, DoubleType"
   ]
  },
  {
   "cell_type": "code",
   "execution_count": 3,
   "metadata": {},
   "outputs": [],
   "source": [
    "spark = SparkSession.builder.master(\"local[*]\").appName(\"SQL 2019 Survey\").getOrCreate()"
   ]
  },
  {
   "cell_type": "code",
   "execution_count": 4,
   "metadata": {},
   "outputs": [
    {
     "name": "stdout",
     "output_type": "stream",
     "text": [
      "root\n",
      " |-- Respondent: integer (nullable = true)\n",
      " |-- MainBranch: string (nullable = true)\n",
      " |-- Hobbyist: string (nullable = true)\n",
      " |-- OpenSourcer: string (nullable = true)\n",
      " |-- OpenSource: string (nullable = true)\n",
      " |-- Employment: string (nullable = true)\n",
      " |-- Country: string (nullable = true)\n",
      " |-- Student: string (nullable = true)\n",
      " |-- EdLevel: string (nullable = true)\n",
      " |-- UndergradMajor: string (nullable = true)\n",
      " |-- EduOther: string (nullable = true)\n",
      " |-- OrgSize: string (nullable = true)\n",
      " |-- DevType: string (nullable = true)\n",
      " |-- YearsCode: string (nullable = true)\n",
      " |-- Age1stCode: string (nullable = true)\n",
      " |-- YearsCodePro: string (nullable = true)\n",
      " |-- CareerSat: string (nullable = true)\n",
      " |-- JobSat: string (nullable = true)\n",
      " |-- MgrIdiot: string (nullable = true)\n",
      " |-- MgrMoney: string (nullable = true)\n",
      " |-- MgrWant: string (nullable = true)\n",
      " |-- JobSeek: string (nullable = true)\n",
      " |-- LastHireDate: string (nullable = true)\n",
      " |-- LastInt: string (nullable = true)\n",
      " |-- FizzBuzz: string (nullable = true)\n",
      " |-- JobFactors: string (nullable = true)\n",
      " |-- ResumeUpdate: string (nullable = true)\n",
      " |-- CurrencySymbol: string (nullable = true)\n",
      " |-- CurrencyDesc: string (nullable = true)\n",
      " |-- CompTotal: string (nullable = true)\n",
      " |-- CompFreq: string (nullable = true)\n",
      " |-- ConvertedComp: string (nullable = true)\n",
      " |-- WorkWeekHrs: string (nullable = true)\n",
      " |-- WorkPlan: string (nullable = true)\n",
      " |-- WorkChallenge: string (nullable = true)\n",
      " |-- WorkRemote: string (nullable = true)\n",
      " |-- WorkLoc: string (nullable = true)\n",
      " |-- ImpSyn: string (nullable = true)\n",
      " |-- CodeRev: string (nullable = true)\n",
      " |-- CodeRevHrs: string (nullable = true)\n",
      " |-- UnitTests: string (nullable = true)\n",
      " |-- PurchaseHow: string (nullable = true)\n",
      " |-- PurchaseWhat: string (nullable = true)\n",
      " |-- LanguageWorkedWith: string (nullable = true)\n",
      " |-- LanguageDesireNextYear: string (nullable = true)\n",
      " |-- DatabaseWorkedWith: string (nullable = true)\n",
      " |-- DatabaseDesireNextYear: string (nullable = true)\n",
      " |-- PlatformWorkedWith: string (nullable = true)\n",
      " |-- PlatformDesireNextYear: string (nullable = true)\n",
      " |-- WebFrameWorkedWith: string (nullable = true)\n",
      " |-- WebFrameDesireNextYear: string (nullable = true)\n",
      " |-- MiscTechWorkedWith: string (nullable = true)\n",
      " |-- MiscTechDesireNextYear: string (nullable = true)\n",
      " |-- DevEnviron: string (nullable = true)\n",
      " |-- OpSys: string (nullable = true)\n",
      " |-- Containers: string (nullable = true)\n",
      " |-- BlockchainOrg: string (nullable = true)\n",
      " |-- BlockchainIs: string (nullable = true)\n",
      " |-- BetterLife: string (nullable = true)\n",
      " |-- ITperson: string (nullable = true)\n",
      " |-- OffOn: string (nullable = true)\n",
      " |-- SocialMedia: string (nullable = true)\n",
      " |-- Extraversion: string (nullable = true)\n",
      " |-- ScreenName: string (nullable = true)\n",
      " |-- SOVisit1st: string (nullable = true)\n",
      " |-- SOVisitFreq: string (nullable = true)\n",
      " |-- SOVisitTo: string (nullable = true)\n",
      " |-- SOFindAnswer: string (nullable = true)\n",
      " |-- SOTimeSaved: string (nullable = true)\n",
      " |-- SOHowMuchTime: string (nullable = true)\n",
      " |-- SOAccount: string (nullable = true)\n",
      " |-- SOPartFreq: string (nullable = true)\n",
      " |-- SOJobs: string (nullable = true)\n",
      " |-- EntTeams: string (nullable = true)\n",
      " |-- SOComm: string (nullable = true)\n",
      " |-- WelcomeChange: string (nullable = true)\n",
      " |-- SONewContent: string (nullable = true)\n",
      " |-- Age: string (nullable = true)\n",
      " |-- Gender: string (nullable = true)\n",
      " |-- Trans: string (nullable = true)\n",
      " |-- Sexuality: string (nullable = true)\n",
      " |-- Ethnicity: string (nullable = true)\n",
      " |-- Dependents: string (nullable = true)\n",
      " |-- SurveyLength: string (nullable = true)\n",
      " |-- SurveyEase: string (nullable = true)\n",
      "\n"
     ]
    }
   ],
   "source": [
    "survey=spark.read.load(r\"C:\\Users\\ngupt\\OneDrive\\Desktop\\perschoolas\\Spark\\spark_demo\\spark_files\\stack-overflow-developer-survey-2019\\survey_results_public.csv\", format=\"csv\", header = True,inferSchema = True)\n",
    "survey.printSchema()\n",
    "\n"
   ]
  },
  {
   "cell_type": "code",
   "execution_count": 5,
   "metadata": {},
   "outputs": [
    {
     "name": "stdout",
     "output_type": "stream",
     "text": [
      "+----------+--------------------+--------+--------------------+--------------------+--------------------+--------------------+--------------+--------------------+--------------------+--------------------+--------------------+--------------------+---------+----------+----------------+--------------------+--------------------+--------------------+--------+--------------------+--------------------+--------------------+--------------------+--------+--------------------+--------------------+--------------+--------------------+---------+--------+-------------+-----------+--------------------+--------------------+--------------------+--------------------+--------------------+--------------------+----------+--------------------+--------------------+--------------------+--------------------+----------------------+--------------------+----------------------+--------------------+----------------------+--------------------+----------------------+--------------------+----------------------+--------------------+-----------+--------------------+-------------+--------------------+----------+--------------------+-----+-------------+--------------------+-----------+----------------+--------------------+--------------------+--------------------+--------------------+-------------+--------------------+--------------------+--------------------+--------------------+---------------+--------------------+--------------------+---+------+-----+--------------------+--------------------+----------+--------------------+--------------------+\n",
      "|Respondent|          MainBranch|Hobbyist|         OpenSourcer|          OpenSource|          Employment|             Country|       Student|             EdLevel|      UndergradMajor|            EduOther|             OrgSize|             DevType|YearsCode|Age1stCode|    YearsCodePro|           CareerSat|              JobSat|            MgrIdiot|MgrMoney|             MgrWant|             JobSeek|        LastHireDate|             LastInt|FizzBuzz|          JobFactors|        ResumeUpdate|CurrencySymbol|        CurrencyDesc|CompTotal|CompFreq|ConvertedComp|WorkWeekHrs|            WorkPlan|       WorkChallenge|          WorkRemote|             WorkLoc|              ImpSyn|             CodeRev|CodeRevHrs|           UnitTests|         PurchaseHow|        PurchaseWhat|  LanguageWorkedWith|LanguageDesireNextYear|  DatabaseWorkedWith|DatabaseDesireNextYear|  PlatformWorkedWith|PlatformDesireNextYear|  WebFrameWorkedWith|WebFrameDesireNextYear|  MiscTechWorkedWith|MiscTechDesireNextYear|          DevEnviron|      OpSys|          Containers|BlockchainOrg|        BlockchainIs|BetterLife|            ITperson|OffOn|  SocialMedia|        Extraversion| ScreenName|      SOVisit1st|         SOVisitFreq|           SOVisitTo|        SOFindAnswer|         SOTimeSaved|SOHowMuchTime|           SOAccount|          SOPartFreq|              SOJobs|            EntTeams|         SOComm|       WelcomeChange|        SONewContent|Age|Gender|Trans|           Sexuality|           Ethnicity|Dependents|        SurveyLength|          SurveyEase|\n",
      "+----------+--------------------+--------+--------------------+--------------------+--------------------+--------------------+--------------+--------------------+--------------------+--------------------+--------------------+--------------------+---------+----------+----------------+--------------------+--------------------+--------------------+--------+--------------------+--------------------+--------------------+--------------------+--------+--------------------+--------------------+--------------+--------------------+---------+--------+-------------+-----------+--------------------+--------------------+--------------------+--------------------+--------------------+--------------------+----------+--------------------+--------------------+--------------------+--------------------+----------------------+--------------------+----------------------+--------------------+----------------------+--------------------+----------------------+--------------------+----------------------+--------------------+-----------+--------------------+-------------+--------------------+----------+--------------------+-----+-------------+--------------------+-----------+----------------+--------------------+--------------------+--------------------+--------------------+-------------+--------------------+--------------------+--------------------+--------------------+---------------+--------------------+--------------------+---+------+-----+--------------------+--------------------+----------+--------------------+--------------------+\n",
      "|         1|I am a student wh...|     Yes|               Never|The quality of OS...|Not employed, and...|      United Kingdom|            No|Primary/elementar...|                  NA|Taught yourself a...|                  NA|                  NA|        4|        10|              NA|                  NA|                  NA|                  NA|      NA|                  NA|                  NA|                  NA|                  NA|      NA|                  NA|                  NA|            NA|                  NA|       NA|      NA|           NA|         NA|                  NA|                  NA|                  NA|                  NA|                  NA|                  NA|        NA|                  NA|                  NA|                  NA|HTML/CSS;Java;Jav...|  C;C++;C#;Go;HTML/...|              SQLite|                 MySQL|       MacOS;Windows|  Android;Arduino;W...|        Django;Flask|          Flask;jQuery|             Node.js|               Node.js|IntelliJ;Notepad+...|    Windows|I do not use cont...|           NA|                  NA|       Yes|Fortunately, some...|  Yes|      Twitter|              Online|   Username|            2017|A few times per m...|Find answers to s...|  3-5 times per week|Stack Overflow wa...|31-60 minutes|                  No|                  NA|No, I didn't know...|No, and I don't k...|        Neutral|Just as welcome n...|Tech articles wri...| 14|   Man|   No|Straight / Hetero...|                  NA|        No|Appropriate in le...|Neither easy nor ...|\n",
      "|         2|I am a student wh...|      No|Less than once pe...|The quality of OS...|Not employed, but...|Bosnia and Herzeg...|Yes, full-time|Secondary school ...|                  NA|Taken an online c...|                  NA|Developer, deskto...|       NA|        17|              NA|                  NA|                  NA|                  NA|      NA|                  NA|I am actively loo...|I've never had a job|                  NA|      NA|Financial perform...|Something else ch...|            NA|                  NA|       NA|      NA|           NA|         NA|                  NA|                  NA|                  NA|                  NA|                  NA|                  NA|        NA|                  NA|                  NA|                  NA| C++;HTML/CSS;Python|  C++;HTML/CSS;Java...|                  NA|                 MySQL|             Windows|               Windows|              Django|                Django|                  NA|                    NA|        Atom;PyCharm|    Windows|I do not use cont...|           NA|Useful across man...|       Yes|                 Yes|  Yes|    Instagram|              Online|   Username|            2017|Daily or almost d...|Find answers to s...|  3-5 times per week|Stack Overflow wa...|11-30 minutes|                 Yes|A few times per m...|No, I knew that S...|No, and I don't k...|  Yes, somewhat|Just as welcome n...|Tech articles wri...| 19|   Man|   No|Straight / Hetero...|                  NA|        No|Appropriate in le...|Neither easy nor ...|\n",
      "|         3|I am not primaril...|     Yes|               Never|The quality of OS...|  Employed full-time|            Thailand|            No|Bachelor’s degree...|Web development o...|Taught yourself a...|100 to 499 employees|Designer;Develope...|        3|        22|               1|  Slightly satisfied|  Slightly satisfied|Not at all confident|Not sure|            Not sure|I’m not actively ...|       1-2 years ago|Interview with pe...|      No|Languages, framew...|I was preparing f...|           THB|           Thai baht|    23000| Monthly|         8820|         40|There's no schedu...|Distracting work ...|Less than once pe...|                Home|             Average|                  No|        NA|No, but I think w...|            Not sure|I have little or ...|            HTML/CSS|       Elixir;HTML/CSS|          PostgreSQL|            PostgreSQL|                  NA|                    NA|                  NA|             Other(s):|                  NA|                    NA|Vim;Visual Studio...|Linux-based|I do not use cont...|           NA|                  NA|       Yes|                 Yes|  Yes|       Reddit|In real life (in ...|   Username|            2011|A few times per week|Find answers to s...| 6-10 times per week|They were about t...|           NA|                 Yes|Less than once pe...|                 Yes|No, I've heard of...|        Neutral|Just as welcome n...|Tech meetups or e...| 28|   Man|   No|Straight / Hetero...|                  NA|       Yes|Appropriate in le...|Neither easy nor ...|\n",
      "|         4|I am a developer ...|      No|               Never|The quality of OS...|  Employed full-time|       United States|            No|Bachelor’s degree...|Computer science,...|Taken an online c...|100 to 499 employees|Developer, full-s...|        3|        16|Less than 1 year|      Very satisfied|  Slightly satisfied|      Very confident|      No|            Not sure|I am not interest...|Less than a year ago|Write code by han...|      No|Languages, framew...|I was preparing f...|           USD|United States dollar|    61000|  Yearly|        61000|         80|There's no schedu...|                  NA|Less than once pe...|                Home|A little below av...|                  No|        NA|No, but I think w...|Developers typica...|I have little or ...| C;C++;C#;Python;SQL|   C;C#;JavaScript;SQL|        MySQL;SQLite|          MySQL;SQLite|       Linux;Windows|         Linux;Windows|                  NA|                    NA|                .NET|                  .NET|Eclipse;Vim;Visua...|    Windows|I do not use cont...|   Not at all|Useful for decent...|       Yes|                SIGH|  Yes|       Reddit|In real life (in ...|   Username|            2014|Daily or almost d...|Find answers to s...|  1-2 times per week|Stack Overflow wa...|31-60 minutes|                 Yes|Less than once pe...|                 Yes|No, and I don't k...| No, not really|Just as welcome n...|Tech articles wri...| 22|   Man|   No|Straight / Hetero...|White or of Europ...|        No|Appropriate in le...|                Easy|\n",
      "|         5|I am a developer ...|     Yes|Once a month or m...|OSS is, on averag...|  Employed full-time|             Ukraine|            No|Bachelor’s degree...|Computer science,...|Taken an online c...|10,000 or more em...|Academic research...|       16|        14|               9|   Very dissatisfied|Slightly dissatis...|  Somewhat confident|     Yes|                  No|I am not interest...|Less than a year ago|Write any code;Wr...|      No|Industry that I'd...|I was preparing f...|           UAH|   Ukrainian hryvnia|       NA|      NA|           NA|         55|There is a schedu...|Being tasked with...|A few days each m...|              Office|A little above av...|Yes, because I se...|        NA|Yes, it's part of...|            Not sure|I have little or ...|C++;HTML/CSS;Java...|  HTML/CSS;Java;Jav...|Couchbase;MongoDB...|  Couchbase;Firebas...|Android;Linux;Mac...|  Android;Docker;Ku...|Django;Express;Fl...|  Flask;jQuery;Reac...|     Cordova;Node.js|  Apache Spark;Hado...|IntelliJ;Notepad+...|Linux-based|Outside of work, ...|   Not at all|                  NA|       Yes|            Also Yes|  Yes|     Facebook|In real life (in ...|   Username|I don't remember|Multiple times pe...|Find answers to s...|More than 10 time...|Stack Overflow wa...|           NA|                 Yes|A few times per m...|No, I knew that S...|No, I've heard of...|Yes, definitely|Just as welcome n...|Tech meetups or e...| 30|   Man|   No|Straight / Hetero...|White or of Europ...|        No|Appropriate in le...|                Easy|\n",
      "|         6|I am not primaril...|     Yes|               Never|The quality of OS...|  Employed full-time|              Canada|            No|Bachelor’s degree...|Mathematics or st...|Taken an online c...|                  NA|Data or business ...|       13|        15|               3|      Very satisfied|  Slightly satisfied|      Very confident|      No|                 Yes|I am not interest...|       1-2 years ago|Write any code;Co...|      No|Financial perform...|I heard about a j...|           CAD|     Canadian dollar|    40000| Monthly|       366420|         15|There's no schedu...|                  NA|A few days each m...|                Home|A little above av...|                  No|        NA|Yes, it's not par...|            Not sure|I have little or ...|          Java;R;SQL|      Python;Scala;SQL|  MongoDB;PostgreSQL|            PostgreSQL|Android;Google Cl...|  Android;Google Cl...|                  NA|                    NA|              Hadoop|  Hadoop;Pandas;Ten...|Android Studio;Ec...|    Windows|I do not use cont...|   Not at all|                  NA|        No|                 Yes|   No|      YouTube|In real life (in ...|      Login|            2011|A few times per m...|Find answers to s...|Less than once pe...|Stack Overflow wa...|  60+ minutes|                 Yes|I have never part...|No, I knew that S...|No, and I don't k...| No, not really|Just as welcome n...|Tech articles wri...| 28|   Man|   No|Straight / Hetero...|          East Asian|        No|            Too long|Neither easy nor ...|\n",
      "|         7|I am a developer ...|      No|               Never|The quality of OS...|Independent contr...|             Ukraine|            No|Bachelor’s degree...|Another engineeri...|Taught yourself a...|Just me - I am a ...|Designer;Develope...|        6|        17|               4|  Slightly satisfied|Neither satisfied...|                  NA|      NA|                  NA|I’m not actively ...|NA - I am an inde...|      Write any code|      No|Remote work optio...|                  NA|           USD|United States dollar|       NA|      NA|           NA|         32|There is a schedu...|Being tasked with...|All or almost all...|Other place, such...|             Average|Yes, because I se...|         6|                  NA|                  NA|                  NA| HTML/CSS;JavaScript|   HTML/CSS;JavaScript|                  NA|                    NA|       MacOS;Windows|         MacOS;Windows|            React.js|              React.js|                  NA|                    NA|            PHPStorm|    Windows|I do not use cont...|           NA|Useful for decent...|        No|                 Yes|   No|      YouTube|                  NA|         NA|            2014|Daily or almost d...|Find answers to s...|  3-5 times per week|                  NA|           NA|                 Yes|Less than once pe...|                 Yes|No, and I don't k...|        Neutral|A lot more welcom...|                  NA| 42|   Man|   No|Straight / Hetero...|White or of Europ...|       Yes|Appropriate in le...|Neither easy nor ...|\n",
      "|         8|I code primarily ...|     Yes|Less than once pe...|OSS is, on averag...|Not employed, but...|               India|            NA|Bachelor’s degree...|Computer science,...|Taught yourself a...|                  NA|Developer, back-e...|        8|        16|              NA|                  NA|                  NA|                  NA|      NA|                  NA|                  NA|                  NA|                  NA|      NA|                  NA|                  NA|            NA|                  NA|       NA|      NA|           NA|         NA|                  NA|                  NA|                  NA|                  NA|                  NA|                  NA|        NA|                  NA|                  NA|                  NA|Bash/Shell/PowerS...|  Bash/Shell/PowerS...|Cassandra;Elastic...|  Cassandra;DynamoD...|AWS;Docker;Heroku...|  Android;Arduino;A...|Express;Flask;Rea...|  Django;Express;Fl...|Hadoop;Node.js;Pa...|  Ansible;Apache Sp...|Atom;IntelliJ;IPy...|Linux-based|Development;Testi...|           NA|Useful across man...|       Yes|                SIGH|  Yes|      YouTube|In real life (in ...|     Handle|            2012|A few times per week|Find answers to s...|Less than once pe...|Stack Overflow wa...|11-30 minutes|                 Yes|Less than once pe...|                 Yes|No, and I don't k...|Yes, definitely|A lot more welcom...|Tech articles wri...| 24|   Man|   No|Straight / Hetero...|                  NA|        NA|Appropriate in le...|Neither easy nor ...|\n",
      "|         9|I am a developer ...|     Yes|Once a month or m...|The quality of OS...|  Employed full-time|         New Zealand|            No|Some college/univ...|Computer science,...|Taken an online c...|  10 to 19 employees|Database administ...|       12|        11|               4|  Slightly satisfied|  Slightly satisfied|  Somewhat confident|      No|            Not sure|I’m not actively ...|Less than a year ago|Write any code;In...|     Yes|Financial perform...|I was preparing f...|           NZD|  New Zealand dollar|   138000|  Yearly|        95179|         32|There is a schedu...|Being tasked with...|Less than once pe...|              Office|A little above av...|Yes, because I se...|        12|Yes, it's not par...|            Not sure|I have some influ...|Bash/Shell/PowerS...|  Bash/Shell/PowerS...|DynamoDB;PostgreS...|  PostgreSQL;Redis;...|AWS;Docker;Heroku...|  AWS;Docker;Heroku...|Express;Ruby on R...|  Express;Ruby on R...|    Node.js;Unity 3D|               Node.js|                 Vim|      MacOS|Development;Testi...|   Not at all|An irresponsible ...|        No|                SIGH|  Yes|      Twitter|In real life (in ...|   Username|            2013|Daily or almost d...|Find answers to s...|  3-5 times per week|They were about t...|           NA|                 Yes|Less than once pe...|No, I knew that S...|No, and I don't k...|  Yes, somewhat|Just as welcome n...|                  NA| 23|   Man|   No|            Bisexual|White or of Europ...|        No|Appropriate in le...|Neither easy nor ...|\n",
      "|        10|I am a developer ...|     Yes|Once a month or m...|OSS is, on averag...|  Employed full-time|               India|            No|Master’s degree (...|                  NA|                  NA|10,000 or more em...|Data or business ...|       12|        20|              10|Slightly dissatis...|Slightly dissatis...|  Somewhat confident|     Yes|                 Yes|I’m not actively ...|       3-4 years ago|                  NA|      No|Languages, framew...|                  NA|           INR|        Indian rupee|   950000|  Yearly|        13293|         70|There's no schedu...|                  NA|A few days each m...|                Home|   Far above average|Yes, because I se...|         4|Yes, it's part of...|                  NA|                  NA|C#;Go;JavaScript;...|  C#;Go;JavaScript;...|Elasticsearch;Mon...|  Elasticsearch;Mon...|       Linux;Windows|  Android;Linux;Ras...|Angular/Angular.j...|  Angular/Angular.j...|.NET;Node.js;Pand...|  .NET;Node.js;Tens...|Android Studio;Ec...|    Windows|                  NA|   Not at all|Useful for immuta...|        No|                 Yes|  Yes|      YouTube|             Neither|Screen Name|              NA|Multiple times pe...|Find answers to s...|  3-5 times per week|They were about t...|           NA|                 Yes|A few times per m...|                 Yes|No, and I don't k...|  Yes, somewhat|Somewhat less wel...|Tech articles wri...| NA|    NA|   NA|                  NA|                  NA|       Yes|            Too long|           Difficult|\n",
      "|        11|I code primarily ...|     Yes|Once a month or m...|The quality of OS...|                  NA| Antigua and Barbuda|Yes, full-time|Primary/elementar...|                  NA|Contributed to op...|                  NA|                  NA|        2|        11|              NA|                  NA|                  NA|                  NA|      NA|                  NA|                  NA|                  NA|                  NA|      NA|                  NA|                  NA|            NA|                  NA|       NA|      NA|           NA|         NA|                  NA|                  NA|                  NA|                  NA|                  NA|                  NA|        NA|                  NA|                  NA|                  NA|           Other(s):|             Other(s):|                  NA|                    NA|                  NA|                    NA|                  NA|                    NA|                  NA|                    NA|                  NA|Linux-based|                  NA|           NA|Useful for immuta...|        No|                 Yes|   NA|           NA|             Neither|   Username|I don't remember|Less than once pe...|Find answers to s...|Less than once pe...|                  NA|           NA|                 Yes|                  NA|No, I knew that S...|No, I've heard of...| No, not at all|Not applicable - ...|                  NA| 22|   Man|  Yes|Bisexual;Gay or L...|Black or of Afric...|        No|Appropriate in le...|                Easy|\n",
      "|        12|I am a student wh...|      No|               Never|OSS is, on averag...|  Employed part-time|              Canada|Yes, full-time|Some college/univ...|Mathematics or st...|Taken an online c...|                  NA|Data or business ...|        5|        16|              NA|                  NA|                  NA|                  NA|      NA|                  NA|I am not interest...|Less than a year ago|                  NA|      NA|Financial perform...|My job status cha...|            NA|                  NA|       NA|      NA|           NA|         NA|                  NA|                  NA|                  NA|                  NA|                  NA|                  NA|        NA|                  NA|                  NA|                  NA|Bash/Shell/PowerS...|  Bash/Shell/PowerS...|MySQL;PostgreSQL;...|  Elasticsearch;Mon...|AWS;Docker;Google...|  AWS;Linux;MacOS;S...|                  NA|                    NA|Ansible;Chef;Hado...|  Ansible;Apache Sp...|IPython / Jupyter...|      MacOS|  Testing;Production|           NA|                  NA|       Yes|                 Yes|  Yes|       Reddit|In real life (in ...|   Username|            2014|A few times per m...|Find answers to s...|  1-2 times per week|The other resourc...|11-30 minutes|Not sure / can't ...|                  NA|No, I knew that S...|                 Yes|  Yes, somewhat|Just as welcome n...|Courses on techno...| 21| Woman|   No|Straight / Hetero...|Black or of Afric...|        No|Appropriate in le...|                Easy|\n",
      "|        13|I am a developer ...|     Yes|Less than once a ...|OSS is, on averag...|  Employed full-time|       United States|            No|Master’s degree (...|Computer science,...|Taken an online c...|  10 to 19 employees|Data or business ...|       17|        11|               8|      Very satisfied|      Very satisfied|                  NA|      NA|                  NA|I am not interest...|       3-4 years ago|Complete a take-h...|     Yes|Languages, framew...|I was preparing f...|           USD|United States dollar|    90000|  Yearly|        90000|         40|There is a schedu...|Meetings;Non-work...|All or almost all...|                Home|A little above av...|Yes, because I se...|         5|No, but I think w...|Developers and ma...|I have a great de...|Bash/Shell/PowerS...|  Bash/Shell/PowerS...|Couchbase;DynamoD...|  Firebase;MySQL;Redis|Android;AWS;Docke...|  Android;AWS;Docke...|Angular/Angular.j...|        Express;Vue.js|     Node.js;Xamarin|    Node.js;TensorFlow|Vim;Visual Studio...|    Windows|Development;Testi...|   Not at all|Useful for decent...|       Yes|                 Yes|  Yes|      Twitter|In real life (in ...|   Username|            2011|Multiple times pe...|Find answers to s...|More than 10 time...|Stack Overflow wa...|11-30 minutes|                 Yes|Less than once pe...|                 Yes|No, I've heard of...|        Neutral|Somewhat more wel...|Tech articles wri...| 28|   Man|   No|Straight / Hetero...|White or of Europ...|       Yes|Appropriate in le...|                Easy|\n",
      "|        14|I am a developer ...|     Yes|Less than once pe...|The quality of OS...|  Employed full-time|             Germany|            No|Other doctoral de...|Computer science,...|Completed an indu...|100 to 499 employees|Developer, deskto...|       13|        16|               2|      Very satisfied|      Very satisfied|      Very confident|      No|                  No|I am not interest...|       1-2 years ago|Interview with pe...|      No|Languages, framew...|Something else ch...|           EUR|       European Euro|     4150| Monthly|        57060|         40|There is a schedu...|Being tasked with...|Less than once pe...|              Office|A little above av...|Yes, because I se...|         4|Yes, it's part of...|Developers typica...|I have some influ...|                 C++|                   C++|                  NA|                    NA|             Windows|               Windows|                  NA|                    NA|                  NA|         Unreal Engine|       Visual Studio|    Windows|I do not use cont...|   Not at all|                  NA|       Yes|                 Yes|  Yes|       Reddit|              Online|   Username|            2010|Multiple times pe...|Find answers to s...|  3-5 times per week|They were about t...|           NA|                 Yes|Less than once pe...|                 Yes|No, and I don't k...| No, not really|Just as welcome n...|Tech articles wri...| 31|   Man|   No|Straight / Hetero...|White or of Europ...|        No|           Too short|                Easy|\n",
      "|        15|I am a student wh...|     Yes|               Never|OSS is, on averag...|Not employed, but...|               India|Yes, full-time|Secondary school ...|                  NA|Taken an online c...|                  NA|             Student|        3|        13|              NA|                  NA|                  NA|                  NA|      NA|                  NA|I’m not actively ...|I've never had a job|                  NA|      NA|Industry that I'd...|Something else ch...|            NA|                  NA|       NA|      NA|           NA|         NA|                  NA|                  NA|                  NA|                  NA|                  NA|                  NA|        NA|                  NA|                  NA|                  NA|Assembly;Bash/She...|  Assembly;Bash/She...|MariaDB;MySQL;Ora...|  MariaDB;MongoDB;M...|       Linux;Windows|  Android;Google Cl...|                  NA|  Angular/Angular.j...|                  NA|  .NET;.NET Core;No...|Atom;NetBeans;Not...|Linux-based|         Development|           NA|                  NA|       Yes|                 Yes|What?|      YouTube|In real life (in ...|         NA|            2018|Daily or almost d...|Find answers to s...|More than 10 time...|They were about t...|           NA|                 Yes|Less than once pe...|                 Yes|No, I've heard of...|  Yes, somewhat|Just as welcome n...|Tech articles wri...| 20|   Man|   No|                  NA|                  NA|       Yes|            Too long|Neither easy nor ...|\n",
      "|        16|I am a developer ...|     Yes|               Never|The quality of OS...|  Employed full-time|      United Kingdom|            No|Master’s degree (...|                  NA|Taken an online c...|100 to 499 employees|Developer, full-s...|       10|        17|               3|      Very satisfied|  Slightly satisfied|  Somewhat confident|      No|                  No|I’m not actively ...|       3-4 years ago|Interview with pe...|     Yes|Languages, framew...|I heard about a j...|           GBP|      Pound sterling|    29000| Monthly|       455352|         40|There is a schedu...|Being tasked with...|A few days each m...|                Home|             Average|                  No|        NA|No, but I think w...|Developers and ma...|I have some influ...|Bash/Shell/PowerS...|  C#;HTML/CSS;JavaS...|MongoDB;Microsoft...|  Elasticsearch;Mon...|                  NA|  AWS;Google Cloud ...|Angular/Angular.j...|  Angular/Angular.j...|.NET;.NET Core;No...|  .NET Core;Node.js...|Visual Studio;Vis...|    Windows|I do not use cont...|   Not at all|       A passing fad|        No|                SIGH|   No|      YouTube|              Online|   Username|            2010|Multiple times pe...|Find answers to s...|Less than once pe...|Stack Overflow wa...|11-30 minutes|                 Yes|Less than once pe...|                 Yes|No, I've heard of...|  Yes, somewhat|Just as welcome n...|Tech articles wri...| 26|   Man|   No|Straight / Hetero...|White or of Europ...|        No|Appropriate in le...|Neither easy nor ...|\n",
      "|        17|I am a developer ...|     Yes|Less than once a ...|The quality of OS...|  Employed full-time|           Australia|            No|Bachelor’s degree...|Computer science,...|Taken an online c...|  20 to 99 employees|Developer, back-e...|        5|        18|               2|  Slightly satisfied|Neither satisfied...|  Somewhat confident|      No|                  No|I am actively loo...|Less than a year ago|Complete a take-h...|      No|Languages, framew...|I was preparing f...|           AUD|   Australian dollar|    90000|  Yearly|        65277|         45|There's no schedu...|Distracting work ...|A few days each m...|Other place, such...|A little above av...|Yes, because I se...|         5|Yes, it's part of...|Developers typica...|I have little or ...|Bash/Shell/PowerS...|  Bash/Shell/PowerS...|  MongoDB;PostgreSQL|  Elasticsearch;Fir...|Arduino;Docker;He...|                Docker|Angular/Angular.j...|  Angular/Angular.j...|             Node.js|  Node.js;React Native|IntelliJ;Visual S...|Linux-based|Development;Testi...|   Not at all|       A passing fad|       Yes|Fortunately, some...|What?|      YouTube|In real life (in ...|         NA|            2014|Daily or almost d...|Find answers to s...| 6-10 times per week|Stack Overflow wa...| 0-10 minutes|                 Yes|A few times per week|No, I didn't know...|No, I've heard of...|  Yes, somewhat|Just as welcome n...|Tech articles wri...| 29|   Man|   No|Straight / Hetero...|Hispanic or Latin...|        No|Appropriate in le...|                Easy|\n",
      "|        18|I am not primaril...|     Yes|Less than once a ...|The quality of OS...|  Employed full-time|  Russian Federation|            No|Master’s degree (...|Computer science,...|Taken an online c...|1,000 to 4,999 em...|Data or business ...|       10|        18|               3|  Slightly satisfied|      Very satisfied|      Very confident|     Yes|                 Yes|I’m not actively ...|       3-4 years ago|Complete a take-h...|      No|Financial perform...|My job status cha...|           RUB|       Russian ruble|   120000| Monthly|        21996|         40|There's no schedu...|Distracting work ...|Less than once pe...|              Office|             Average|Yes, because I se...|       0.5|Yes, it's not par...|            Not sure|I have some influ...|            Python;R|              Python;R|             MongoDB|               MongoDB|                  NA|                    NA|                  NA|                    NA|                  NA|                    NA|     PyCharm;RStudio|Linux-based|          Production|           NA|       A passing fad|       Yes|                SIGH|  Yes|VK ВКонта́кте|In real life (in ...|      Login|I don't remember|Multiple times pe...|Find answers to s...|More than 10 time...|Stack Overflow wa...| 0-10 minutes|                 Yes|I have never part...|No, I knew that S...|No, and I don't k...| No, not really|Just as welcome n...|                  NA| NA|   Man|   No|Straight / Hetero...|White or of Europ...|       Yes|Appropriate in le...|Neither easy nor ...|\n",
      "|        19|I am a developer ...|     Yes|               Never|The quality of OS...|  Employed full-time|              Brazil|            No|Some college/univ...|Computer science,...|Received on-the-j...|100 to 499 employees|Developer, full-s...|       14|        13|              13|   Very dissatisfied|      Very satisfied|      Very confident|      No|                  No|I’m not actively ...|Less than a year ago|Interview with pe...|      No|Languages, framew...|My job status cha...|           BRL|      Brazilian real|     9500| Monthly|        31140|          8|There is a schedu...|Distracting work ...|A few days each m...|              Office|   Far above average|Yes, because I se...|         3|Yes, it's part of...|Developers typica...|I have some influ...|C#;HTML/CSS;Java;...|   HTML/CSS;JavaScript|DynamoDB;Firebase...|              DynamoDB|Android;AWS;Micro...|                   AWS|Angular/Angular.j...|      Express;React.js|.NET;.NET Core;No...|               Node.js|Vim;Visual Studio...|      MacOS|Development;Testi...|   Not at all|                  NA|        No|                SIGH|  Yes|     WhatsApp|In real life (in ...|   Username|            2008|Daily or almost d...|Find answers to s...|More than 10 time...|Stack Overflow wa...|  60+ minutes|                 Yes|I have never part...|No, I knew that S...|No, I've heard of...|        Neutral|Just as welcome n...|Tech articles wri...| 31|   Man|   No|Straight / Hetero...|Hispanic or Latin...|       Yes|            Too long|                Easy|\n",
      "|        20|I am not primaril...|      No|               Never|OSS is, on averag...|  Employed full-time|           Lithuania|            No|Master’s degree (...|Information syste...|Taken an online c...|1,000 to 4,999 em...|Database administ...|        8|        17|               4|      Very satisfied|Slightly dissatis...|      Very confident|      No|I am already a ma...|I’m not actively ...|More than 4 years...|Interview with pe...|      No|Remote work optio...|My job status cha...|           EUR|       European Euro|     3000| Monthly|        41244|        140|There's no schedu...|Lack of support f...|More than half, b...|              Office|A little above av...|Yes, because I se...|         1|No, but I think w...|Developers typica...|I have a great de...|Bash/Shell/PowerS...|  Bash/Shell/PowerS...|Elasticsearch;Mar...|  Elasticsearch;Mar...|Android;Docker;Wi...|  Android;Docker;Wi...|Angular/Angular.j...|  Angular/Angular.j...|         .NET;Pandas|  .NET;Pandas;Unity...|Android Studio;Vi...|    Windows|Outside of work, ...|   Not at all|Useful for immuta...|       Yes|            Also Yes|  Yes|     Facebook|In real life (in ...|   Username|            2010|A few times per m...|Find answers to s...|  3-5 times per week|Stack Overflow wa...|11-30 minutes|                 Yes|I have never part...|No, I didn't know...|No, and I don't k...|        Neutral|Not applicable - ...|Tech articles wri...| 38|   Man|   No|Straight / Hetero...|White or of Europ...|       Yes|Appropriate in le...|                Easy|\n",
      "+----------+--------------------+--------+--------------------+--------------------+--------------------+--------------------+--------------+--------------------+--------------------+--------------------+--------------------+--------------------+---------+----------+----------------+--------------------+--------------------+--------------------+--------+--------------------+--------------------+--------------------+--------------------+--------+--------------------+--------------------+--------------+--------------------+---------+--------+-------------+-----------+--------------------+--------------------+--------------------+--------------------+--------------------+--------------------+----------+--------------------+--------------------+--------------------+--------------------+----------------------+--------------------+----------------------+--------------------+----------------------+--------------------+----------------------+--------------------+----------------------+--------------------+-----------+--------------------+-------------+--------------------+----------+--------------------+-----+-------------+--------------------+-----------+----------------+--------------------+--------------------+--------------------+--------------------+-------------+--------------------+--------------------+--------------------+--------------------+---------------+--------------------+--------------------+---+------+-----+--------------------+--------------------+----------+--------------------+--------------------+\n",
      "only showing top 20 rows\n",
      "\n"
     ]
    }
   ],
   "source": [
    "survey.createTempView(\"survey_2019\")  # deal will use as a table name\n",
    "spark.sql(\"SELECT * from survey_2019\").show()"
   ]
  },
  {
   "cell_type": "code",
   "execution_count": 6,
   "metadata": {},
   "outputs": [
    {
     "name": "stdout",
     "output_type": "stream",
     "text": [
      "+--------------------+------------------+\n",
      "|              Gender|       Average_Age|\n",
      "+--------------------+------------------+\n",
      "|                 Man| 30.42447950143923|\n",
      "|                  NA| 30.35884003741815|\n",
      "|Man;Non-binary, g...|28.915243902439027|\n",
      "|           Woman;Man| 26.23170731707317|\n",
      "|Woman;Man;Non-bin...| 29.78723404255319|\n",
      "|Woman;Non-binary,...|28.210884353741495|\n",
      "|Non-binary, gende...|29.018036072144287|\n",
      "|               Woman|29.495723917672105|\n",
      "+--------------------+------------------+\n",
      "\n"
     ]
    }
   ],
   "source": [
    "spark.sql(\"SELECT Gender,AVG(Age) as Average_Age FROM survey_2019 GROUP BY Gender\").show()"
   ]
  },
  {
   "cell_type": "code",
   "execution_count": 7,
   "metadata": {},
   "outputs": [
    {
     "name": "stdout",
     "output_type": "stream",
     "text": [
      "+--------------+----------------------+\n",
      "|       Country|Respondent_Countrywise|\n",
      "+--------------+----------------------+\n",
      "| United States|                 20949|\n",
      "|         India|                  9061|\n",
      "|       Germany|                  5866|\n",
      "|United Kingdom|                  5737|\n",
      "|        Canada|                  3395|\n",
      "+--------------+----------------------+\n",
      "\n"
     ]
    }
   ],
   "source": [
    "spark.sql(\"SELECT  Country, count(*) as Respondent_Countrywise FROM survey_2019 GROUP BY Country ORDER BY Respondent_Countrywise DESC LIMIT 5\").show()"
   ]
  },
  {
   "attachments": {},
   "cell_type": "markdown",
   "metadata": {},
   "source": [
    "The oldest age to write the first line of code or program for United States respondents with a computer science, computer engineering, software engineering, mathematics, or statistics degree."
   ]
  },
  {
   "cell_type": "code",
   "execution_count": 8,
   "metadata": {},
   "outputs": [
    {
     "name": "stdout",
     "output_type": "stream",
     "text": [
      "+-------------+--------------------+--------------------+\n",
      "|      Country|      UndergradMajor|          oldest_age|\n",
      "+-------------+--------------------+--------------------+\n",
      "|United States|Computer science,...|Younger than 5 years|\n",
      "|United States|Mathematics or st...|Younger than 5 years|\n",
      "+-------------+--------------------+--------------------+\n",
      "\n"
     ]
    }
   ],
   "source": [
    "spark.sql(\"SELECT Country, UndergradMajor, MAX(Age1stCode) as oldest_age FROM survey_2019 \\\n",
    "                          WHERE ((Country = 'United States') AND ((UndergradMajor = 'Computer science, computer engineering, or software engineering') \\\n",
    "                            OR (UndergradMajor = 'Mathematics or statistics')) AND (Age IS NOT NULL)) \\\n",
    "                                GROUP BY Country, UndergradMajor\").show()"
   ]
  }
 ],
 "metadata": {
  "kernelspec": {
   "display_name": "Python 3",
   "language": "python",
   "name": "python3"
  },
  "language_info": {
   "codemirror_mode": {
    "name": "ipython",
    "version": 3
   },
   "file_extension": ".py",
   "mimetype": "text/x-python",
   "name": "python",
   "nbconvert_exporter": "python",
   "pygments_lexer": "ipython3",
   "version": "3.10.4"
  },
  "orig_nbformat": 4,
  "vscode": {
   "interpreter": {
    "hash": "369f2c481f4da34e4445cda3fffd2e751bd1c4d706f27375911949ba6bb62e1c"
   }
  }
 },
 "nbformat": 4,
 "nbformat_minor": 2
}
