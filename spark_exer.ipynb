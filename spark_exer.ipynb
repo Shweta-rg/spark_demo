{
 "cells": [
  {
   "cell_type": "code",
   "execution_count": 5,
   "metadata": {},
   "outputs": [],
   "source": [
    "import pyspark\n",
    "from pyspark.sql import SparkSession\n",
    "from pyspark import SparkContext"
   ]
  },
  {
   "cell_type": "code",
   "execution_count": null,
   "metadata": {},
   "outputs": [],
   "source": [
    "import pyspark\n",
    "from pyspark.sql import SparkSession\n",
    "from pyspark import SparkContext"
   ]
  },
  {
   "cell_type": "code",
   "execution_count": 6,
   "metadata": {},
   "outputs": [],
   "source": [
    "#Create an RDD using this dataset. (Make sure to exclude the first two rows.)\n",
    "\n",
    "sc=SparkContext()\n"
   ]
  },
  {
   "cell_type": "code",
   "execution_count": 7,
   "metadata": {},
   "outputs": [
    {
     "name": "stdout",
     "output_type": "stream",
     "text": [
      "<bound method RDD.collect of PythonRDD[3] at RDD at PythonRDD.scala:53>\n"
     ]
    }
   ],
   "source": [
    "cars=sc.textFile(r'C:\\Users\\ngupt\\OneDrive\\Desktop\\perschoolas\\Spark\\spark_demo\\spark_files\\cars.csv')\n",
    "rdd=cars.zipWithIndex().filter(lambda x:x[1]>1)\n",
    "print(rdd.collect)"
   ]
  },
  {
   "attachments": {},
   "cell_type": "markdown",
   "metadata": {},
   "source": [
    "Create three sample RDDs from the RDD without replacement.\n",
    "    Two 10 percent samples.\n",
    "    One 20 percent sample.\n"
   ]
  },
  {
   "cell_type": "code",
   "execution_count": 8,
   "metadata": {},
   "outputs": [],
   "source": [
    "rdd1 = cars.sample(False, 0.1) \n",
    "rdd2 = cars.sample(False, 0.1) \n",
    "rdd3 = cars.sample(False, 0.2)"
   ]
  },
  {
   "attachments": {},
   "cell_type": "markdown",
   "metadata": {},
   "source": [
    "Create an RDD containing distinct elements from two 10 percent sample RDDs. \n",
    "Create an RDD containing distinct elements from the 20 percent sample RDD."
   ]
  },
  {
   "cell_type": "code",
   "execution_count": 11,
   "metadata": {},
   "outputs": [
    {
     "name": "stdout",
     "output_type": "stream",
     "text": [
      "['AMC Concord d/l,18.1,6,258,120,3410,15.1,78,US,4,NewYork', 'Chrysler Lebaron Town @ Country (sw),18.5,8,360,150,3940,13,79,US,337,OH', 'Datsun B210 GX,39.4,4,85,70,2070,18.6,78,Japan,292,DALLAS', 'Ford Gran Torino (sw),13,8,302,140,4294,16,72,US,119,NewYork', 'Toyota Tercel,37.7,4,89,62,2050,17.3,81,Japan,393,NewYork', 'Volkswagen Rabbit,29.5,4,97,71,1825,12.2,76,Europe,248,TEXAS', 'Datsun B-210,32,4,85,70,1990,17,76,Japan,249,NJ', 'Ford LTD,13,8,351,158,4363,13,73,US,137,TEXAS', 'Ford Pinto,25,4,98,0,2046,19,71,US,76,DALLAS', 'Mazda GLC Custom,31,4,91,68,1970,17.6,82,Japan,423,TEXAS', 'Plymouth Horizon,34.2,4,105,70,2200,13.2,79,US,346,NewYork', 'Plymouth Valiant,22,6,225,100,3233,15.4,76,US,236,TEXAS', 'AMC Ambassador Brougham,13,8,360,175,3821,11,73,US,25,NewYork', 'Chevrolet Citation,28.8,6,173,115,2595,11.3,79,US,351,DALLAS', 'Chevrolet Citation,28,4,151,90,2678,16.5,80,US,358,TEXAS', 'Chevrolet Vega 2300,28,4,140,90,2264,15.5,71,US,74,TEXAS', 'Ford LTD Landau,17.6,8,302,129,3725,13.4,79,US,331,NewYork', 'Ford Maverick,21,6,200,0,2875,17,74,US,171,TEXAS', 'Nissan Stanza XE,36,4,120,88,2160,14.5,82,Japan,8,NewYork', 'Plymouth Fury III,15,8,318,150,4135,13.5,72,US,109,NJ', 'Toyota Corolla Mark II (sw),23,4,120,97,2506,14.5,72,Japan,127,OH', 'Volkswagen Dasher,25,4,90,71,2223,16.5,75,Europe,217,NewYork', 'Volkswagen Scirocco,31.5,4,89,71,1990,14.9,78,Europe,323,DALLAS', 'Cadillac Eldorado,23,8,350,125,3900,17.4,79,US,343,TEXAS', 'Chevrolet Bel Air,15,8,350,145,4440,14,75,US,202,NJ', 'Chevrolet Chevelle Malibu,18,8,307,130,3504,12,70,US,20,DALLAS', 'Datsun PL510,27,4,97,88,2130,14.5,70,Japan,62,OH', 'Dodge Colt,28,4,90,75,2125,14.5,74,US,191,NewYork', 'Dodge Coronet Custom,15,8,318,150,3777,12.5,73,US,134,TEXAS', 'Dodge Dart Custom,15,8,318,150,3399,11,73,US,166,DALLAS', 'Dodge St. Regis,18.2,8,318,135,3830,15.2,79,US,333,OH', 'Ford Torino 500,19,6,250,88,3302,15.5,71,US,81,NJ', 'Mazda RX-7 GS,23.7,3,70,100,2420,12.5,80,Japan,379,NewYork', 'Mercury Grand Marquis,16.5,8,351,138,3955,13.2,79,US,332,DALLAS', 'Mercury Zephyr,20.8,6,200,85,3070,16.7,78,US,304,TEXAS', 'Opel 1900,25,4,116,81,2220,16.9,76,Europe,25,TEXAS', 'Plymouth Satellite Custom,16,6,225,105,3439,15.5,71,US,79,OH', 'Pontiac Phoenix LJ,19.2,6,231,105,3535,19.2,78,US,297,DALLAS', 'AMC Matador,15.5,8,304,120,3962,13.9,76,US,234,DALLAS', 'Chevrolet Cavalier,28,4,112,88,2605,19.6,82,US,413,DALLAS', 'Dodge Colt Hardtop,25,4,97.5,80,2126,17,72,US,103,OH', 'Dodge D200,11,8,318,210,4382,13.5,70,US,71,NJ', 'Ford Mustang,18,6,250,88,3139,14.5,71,US,93,NJ', 'Honda Civic (auto),32,4,91,67,1965,15.7,82,Japan,430,TEXAS', 'Mazda RX-4,21.5,3,80,110,2720,13.5,77,Japan,288,NewYork', 'Renault 5 GTL,36,4,79,58,1825,18.6,77,Europe,263,NJ', 'Saab 99gle,21.6,4,121,115,2795,15.7,78,Europe,7,NewYork', 'Subaru,26,4,108,93,2391,15.5,74,Japan,195,TEXAS', 'AMC Pacer,19,6,232,90,3211,17,75,US,221,NewYork', 'Chevrolet Chevelle Malibu,17,6,250,100,3329,15.5,71,US,80,NewYork', 'Chrysler Lebaron Salon,17.6,6,225,85,3465,16.6,81,US,412,TEXAS', 'Dodge Aries Wagon (sw),25.8,4,156,92,2620,14.4,81,US,385,DALLAS', 'Dodge Diplomat,19.4,8,318,140,3735,13.2,78,US,295,TEXAS', 'Ford Galaxie 500,15,8,429,198,4341,10,70,US,8,OH', 'Honda Civic 1500 gl,44.6,4,91,67,1850,13.8,80,Japan,374,NewYork', 'Volkswagen Pickup,44,4,97,52,2130,24.6,82,Europe,96,NewYork', 'AMC Gremlin,19,6,232,100,2634,13,71,US,78,OH', 'AMC Matador,16,6,258,110,3632,18,74,US,179,NewYork', 'Chevrolet Chevelle Malibu Classic,16,6,250,100,3781,17,74,US,178,NJ', 'Datsun 1200,35,4,72,69,1613,18,71,Japan,99,TEXAS', 'Datsun 710,24,4,119,97,2545,17,75,Japan,218,DALLAS', 'Dodge Colt,27.9,4,156,105,2800,14.4,80,US,368,DALLAS', 'Fiat 128,29,4,68,49,1867,19.5,73,Europe,162,TEXAS', 'Honda Prelude,33.7,4,107,75,2210,14.4,81,Japan,400,TEXAS', 'Plymouth Duster,22,6,198,95,2833,15.5,70,US,59,OH', 'Toyota Corolla Liftback,29.8,4,134,90,2711,15.5,80,Japan,363,DALLAS', 'Volkswagen Rabbit Custom,31.9,4,89,71,1925,14,79,Europe,338,TEXAS', 'AMC Pacer d/l,17.5,6,258,95,3193,17.8,76,US,75,NJ', 'Chevrolet Chevelle Concours (sw),0,8,350,165,4142,11.5,70,US,33,NewYork', 'Chevrolet Woody,24.5,4,98,60,2164,22.1,76,US,241,OH', 'Chrysler Lebaron Medallion,26,4,156,92,2585,14.5,82,US,434,DALLAS', 'Ford Pinto Runabout,21,4,122,86,2226,16.5,72,US,106,NJ', 'Plymouth Satellite (sw),0,8,383,175,4166,10.5,70,US,56,TEXAS', 'Plymouth Volare,20.5,6,225,100,3430,17.2,78,US,301,NewYork', 'Volkswagen Rabbit Custom,29,4,97,78,1940,14.5,77,Europe,278,DALLAS']\n"
     ]
    },
    {
     "data": {
      "text/plain": [
       "['AMC Matador,18,6,232,100,3288,15.5,71,US,82,DALLAS',\n",
       " 'AMC Matador,14,8,304,150,3672,11.5,73,US,131,TEXAS',\n",
       " 'AMC Matador,15,6,258,110,3730,19,75,US,207,NJ',\n",
       " 'AMC Pacer,19,6,232,90,3211,17,75,US,221,NewYork',\n",
       " 'BMW 2002,26,4,121,113,2234,12.5,70,Europe,67,DALLAS',\n",
       " 'Buick Opel Isuzu Deluxe,30,4,111,80,2155,14.8,77,US,814,OH',\n",
       " 'Chevrolet Camaro,27,4,151,90,2950,17.3,82,US,438,TEXAS',\n",
       " 'Chevrolet Cavalier Wagon,27,4,112,88,2640,18.6,82,US,414,OH',\n",
       " 'Chevrolet Chevette,30.5,4,98,63,2051,17,77,US,282,OH',\n",
       " 'Chevrolet Vega,21,4,140,72,2401,19.5,73,US,154,NewYork',\n",
       " 'Chrysler Cordoba,15.5,8,400,190,4325,12.2,77,US,7,NJ',\n",
       " 'Chrysler Lebaron Salon,17.6,6,225,85,3465,16.6,81,US,412,TEXAS',\n",
       " 'Datsun 210,31.8,4,85,65,2020,19.2,79,Japan,348,NJ',\n",
       " 'Datsun 510,27.2,4,119,97,2300,14.7,78,Japan,313,DALLAS',\n",
       " 'Datsun B-210,32,4,85,70,1990,17,76,Japan,249,NJ',\n",
       " 'Dodge Aspen,18.6,6,225,110,3620,18.7,78,US,305,TEXAS',\n",
       " 'Dodge Aspen,19.1,6,225,90,3381,18.7,80,US,361,OH',\n",
       " 'Dodge Colt (sw),28,4,98,80,2164,15,72,US,128,TEXAS',\n",
       " 'Dodge Monaco Brougham,15.5,8,318,145,4140,13.7,77,US,268,NJ',\n",
       " 'Fiat 124B,30,4,88,76,2065,14.5,71,Europe,97,DALLAS',\n",
       " 'Fiat 131,28,4,107,86,2464,15.5,76,Europe,227,NewYork',\n",
       " 'Ford Galaxie 500,15,8,429,198,4341,10,70,US,8,OH',\n",
       " 'Mazda 626,31.3,4,120,75,2542,17.5,80,Japan,364,OH',\n",
       " 'Mercedes-Benz 280s,16.5,6,168,120,3820,16.7,76,Europe,256,TEXAS',\n",
       " 'Oldsmobile Cutlass LS,26.6,8,350,105,3725,19,81,US,410,DALLAS',\n",
       " 'Opel 1900,28,4,116,90,2123,14,71,Europe,95,DALLAS',\n",
       " 'Peugeot 604sl,16.2,6,163,133,3410,15.8,78,Europe,322,TEXAS',\n",
       " 'Plymouth Reliant,27.2,4,135,84,2490,15.7,81,US,383,OH',\n",
       " 'Plymouth Satellite Custom (sw),14,8,318,150,4077,14,72,US,120,NewYork',\n",
       " 'Pontiac Astro,23,4,140,78,2592,18.5,75,US,215,NewYork',\n",
       " 'Pontiac Grand Prix,16,8,400,230,4278,9.5,73,US,161,NJ',\n",
       " 'Saab 99le,24,4,121,110,2660,14,73,Europe,167,NJ',\n",
       " 'Toyota Corolla,31,4,76,52,1649,16.5,74,Japan,189,NJ',\n",
       " 'Toyota Corolla 1200,32,4,71,65,1836,21,74,Japan,176,TEXAS',\n",
       " 'Toyota Corolla Tercel,38.1,4,89,60,1968,18.8,80,Japan,355,NewYork',\n",
       " 'Triumph TR7 Coupe,35,4,122,88,2500,15.1,80,Europe,380,NJ',\n",
       " 'AMC Ambassador Brougham,13,8,360,175,3821,11,73,US,25,NewYork',\n",
       " 'AMC Ambassador SST,17,8,304,150,3672,11.5,72,US,4,DALLAS',\n",
       " 'AMC Hornet,22.5,6,232,90,3085,17.6,76,US,28,NewYork',\n",
       " 'Audi 4000,34.3,4,97,78,2188,15.8,80,Europe,362,TEXAS',\n",
       " 'Buick Century,17,6,231,110,3907,21,75,US,205,OH',\n",
       " 'Buick Regal Sport Coupe (turbo),17.7,6,231,165,3445,13.4,78,US,308,NewYork',\n",
       " 'Chevrolet C10,13,8,350,145,4055,12,76,US,75,DALLAS',\n",
       " 'Chevrolet Impala,13,8,350,165,4274,12,72,US,107,TEXAS',\n",
       " 'Chevrolet Nova,15,6,250,100,3336,17,74,US,173,NewYork',\n",
       " 'Chevrolet Vega,25,4,140,75,2542,17,74,US,177,NJ',\n",
       " 'Datsun 1200,35,4,72,69,1613,18,71,Japan,99,TEXAS',\n",
       " 'Datsun 310 GX,38,4,91,67,1995,16.2,82,Japan,431,NJ',\n",
       " 'Datsun 810,22,6,146,97,2815,14.5,77,Japan,286,TEXAS',\n",
       " 'Datsun F-10 Hatchback,33.5,4,85,70,1945,16.8,77,Japan,265,TEXAS',\n",
       " 'Dodge Aspen 6,20.6,6,225,110,3360,16.6,79,US,329,NewYork',\n",
       " 'Dodge Colt m/m,33.5,4,98,83,2075,15.9,77,US,283,NJ',\n",
       " 'Dodge Coronet Brougham,16,8,318,150,4190,13,76,US,233,DALLAS',\n",
       " 'Dodge Dart Custom,15,8,318,150,3399,11,73,US,166,DALLAS',\n",
       " 'Dodge St. Regis,18.2,8,318,135,3830,15.2,79,US,333,OH',\n",
       " 'Fiat Strada Custom,37.3,4,91,69,2130,14.7,79,Europe,349,NJ',\n",
       " 'Ford Country Squire (sw),13,8,400,170,4746,12,71,US,88,OH',\n",
       " 'Mazda GLC Deluxe,34.1,4,86,65,1975,15.2,79,Japan,7,NJ',\n",
       " 'Mercedes-Benz 240d,30,4,146,67,3250,21.8,80,Europe,373,DALLAS',\n",
       " 'Mercury Zephyr,20.8,6,200,85,3070,16.7,78,US,304,TEXAS',\n",
       " 'Mercury Zephyr 6,19.8,6,200,85,2990,18.2,79,US,326,OH',\n",
       " 'Nissan Stanza XE,36,4,120,88,2160,14.5,82,Japan,8,NewYork',\n",
       " 'Oldsmobile Cutlass Ciera (diesel),38,6,262,85,3015,17,82,US,28,NJ',\n",
       " 'Oldsmobile Delta 88 Royale,12,8,350,160,4456,13.5,72,US,114,DALLAS',\n",
       " 'Oldsmobile Vista Cruiser,12,8,350,180,4499,12.5,73,US,151,NJ',\n",
       " 'Opel Manta,26,4,97,78,2300,14.5,74,Europe,188,NewYork',\n",
       " 'Peugeot 504,19,4,120,88,3270,21.9,76,Europe,254,OH',\n",
       " 'Peugeot 504,27.2,4,141,71,3190,24.8,79,Europe,344,NewYork',\n",
       " 'Peugeot 505s Turbo Diesel,28.1,4,141,80,3230,20.4,81,Europe,404,DALLAS',\n",
       " \"Plymouth 'Cuda 340,14,8,340,160,3609,8,70,US,44,DALLAS\",\n",
       " 'Plymouth Fury III,15,8,318,150,4135,13.5,72,US,109,NJ',\n",
       " 'Plymouth Satellite Custom,16,6,225,105,3439,15.5,71,US,79,OH',\n",
       " 'Pontiac Catalina Brougham,14,8,400,175,4464,11.5,71,US,84,OH',\n",
       " 'Pontiac Phoenix LJ,19.2,6,231,105,3535,19.2,78,US,297,DALLAS',\n",
       " 'Renault 12 (sw),26,4,96,69,2189,18,72,Europe,124,NJ',\n",
       " 'Subaru DL,30,4,97,67,1985,16.4,77,Japan,284,NewYork',\n",
       " 'Toyota Camry,20,4,97,88,2279,19,73,Japan,153,DALLAS',\n",
       " 'Toyota Corolla,28,4,97,75,2155,16.4,76,Japan,7,DALLAS',\n",
       " 'Toyota Corolla Liftback,26,4,97,75,2265,18.2,77,Japan,280,NJ',\n",
       " 'Toyota Corolla Mark ii,24,4,113,95,2372,15,70,Japan,58,TEXAS',\n",
       " 'Volkswagen Dasher,25,4,90,71,2223,16.5,75,Europe,217,NewYork',\n",
       " 'Volkswagen Dasher,30.5,4,97,78,2190,14.1,77,Europe,285,NJ',\n",
       " 'Volkswagen Dasher (diesel),43.4,4,90,48,2335,23.7,80,Europe,371,DALLAS',\n",
       " 'Volkswagen Jetta,33,4,105,74,2190,14.2,81,Europe,398,TEXAS',\n",
       " 'Volvo 145e (sw),18,4,121,112,2933,14.5,72,Europe,121,DALLAS']"
      ]
     },
     "execution_count": 11,
     "metadata": {},
     "output_type": "execute_result"
    }
   ],
   "source": [
    "rdd_dis = sc.union([rdd1, rdd2]) \n",
    "#rdd4 = rdd_dis.distinct().collect() \n",
    "rdd4 = rdd_dis.distinct()\n",
    "print(rdd4.collect())\n",
    "rdd5 = rdd3.distinct() \n",
    "#collcet is action to collect all the nodes to driver mode, should use on smallest subset\n",
    "rdd5.collect()\n"
   ]
  },
  {
   "attachments": {},
   "cell_type": "markdown",
   "metadata": {},
   "source": [
    "4..Calculate how many elements are in both of the previous two RDDs from step You CANNOT use any action operations, except for each and collect."
   ]
  },
  {
   "cell_type": "code",
   "execution_count": 17,
   "metadata": {},
   "outputs": [
    {
     "name": "stdout",
     "output_type": "stream",
     "text": [
      "405\n"
     ]
    }
   ],
   "source": [
    "length10=rdd.map(lambda l:1).reduce(lambda a,b:a+b)\n",
    "print(length10)"
   ]
  },
  {
   "cell_type": "code",
   "execution_count": 20,
   "metadata": {},
   "outputs": [
    {
     "name": "stdout",
     "output_type": "stream",
     "text": [
      "405\n"
     ]
    }
   ],
   "source": [
    "length20=rdd.map(lambda l:1).reduce(lambda a,b:a+b)\n",
    "print(length20)"
   ]
  },
  {
   "attachments": {},
   "cell_type": "markdown",
   "metadata": {},
   "source": [
    "Calculate the following about the cars:\n",
    "Total Weight.\n",
    "Average MPG.\n",
    "How many cars we have for each Origin.\n"
   ]
  },
  {
   "cell_type": "code",
   "execution_count": 24,
   "metadata": {},
   "outputs": [],
   "source": [
    "tot_weight=rdd.map(lambda x:int(x[0].split(',')[5])).reduce(lambda a,b:a+b)"
   ]
  },
  {
   "cell_type": "code",
   "execution_count": 26,
   "metadata": {},
   "outputs": [],
   "source": [
    "len_list=rdd.map(lambda l:1).reduce(lambda a,b:a+b)\n",
    "mpg=rdd.map(lambda x:float(x[0].split(',')[1])).reduce(lambda a,b:a+b)\n",
    "avg=mpg/len_list"
   ]
  },
  {
   "cell_type": "code",
   "execution_count": 27,
   "metadata": {},
   "outputs": [],
   "source": [
    "dict_origins=rdd.map(lambda x:x[0].split(',')[8].countByValue())"
   ]
  },
  {
   "attachments": {},
   "cell_type": "markdown",
   "metadata": {},
   "source": [
    "adding columns"
   ]
  },
  {
   "cell_type": "code",
   "execution_count": null,
   "metadata": {},
   "outputs": [],
   "source": []
  }
 ],
 "metadata": {
  "kernelspec": {
   "display_name": "Python 3",
   "language": "python",
   "name": "python3"
  },
  "language_info": {
   "codemirror_mode": {
    "name": "ipython",
    "version": 3
   },
   "file_extension": ".py",
   "mimetype": "text/x-python",
   "name": "python",
   "nbconvert_exporter": "python",
   "pygments_lexer": "ipython3",
   "version": "3.10.4"
  },
  "orig_nbformat": 4,
  "vscode": {
   "interpreter": {
    "hash": "369f2c481f4da34e4445cda3fffd2e751bd1c4d706f27375911949ba6bb62e1c"
   }
  }
 },
 "nbformat": 4,
 "nbformat_minor": 2
}
